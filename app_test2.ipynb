{
  "cells": [
    {
      "cell_type": "markdown",
      "metadata": {
        "id": "view-in-github",
        "colab_type": "text"
      },
      "source": [
        "<a href=\"https://colab.research.google.com/github/reggy0/keys_demo/blob/main/app_test2.ipynb\" target=\"_parent\"><img src=\"https://colab.research.google.com/assets/colab-badge.svg\" alt=\"Open In Colab\"/></a>"
      ]
    },
    {
      "cell_type": "code",
      "execution_count": null,
      "metadata": {
        "id": "_833oJLLFpvK"
      },
      "outputs": [],
      "source": [
        "pip install happytransformer "
      ]
    },
    {
      "cell_type": "code",
      "execution_count": null,
      "metadata": {
        "id": "rwJDUNtPF1P5"
      },
      "outputs": [],
      "source": [
        "!pip install flask \n",
        "!pip install flask-ngrok \n",
        "print(\"Completed!\")"
      ]
    },
    {
      "cell_type": "code",
      "execution_count": null,
      "metadata": {
        "id": "zNG9I0mSF1UG"
      },
      "outputs": [],
      "source": [
        "# install ngrok linux version using the following command or you can get the\n",
        "# latest version from its official website- https://dashboard.ngrok.com/get-started/setup\n",
        "\n",
        "!wget https://bin.equinox.io/c/4VmDzA7iaHb/ngrok-stable-linux-amd64.tgz"
      ]
    },
    {
      "cell_type": "code",
      "execution_count": null,
      "metadata": {
        "id": "0WBJvd_4F1Xb"
      },
      "outputs": [],
      "source": [
        "# extract the downloaded file using the following command \n",
        "\n",
        "!tar -xvf /content/ngrok-stable-linux-amd64.tgz"
      ]
    },
    {
      "cell_type": "code",
      "execution_count": null,
      "metadata": {
        "id": "0OtRxG33F1a2"
      },
      "outputs": [],
      "source": [
        "!./ngrok authtoken 2NxptpU1eHvfG4aPauVeTuQqpUm_2X6w25q4f65od5whEzfJT"
      ]
    },
    {
      "cell_type": "code",
      "execution_count": null,
      "metadata": {
        "id": "Uay-qkIPF1jJ"
      },
      "outputs": [],
      "source": [
        "from google.colab import drive\n",
        "drive.mount('/content/drive/')"
      ]
    },
    {
      "cell_type": "code",
      "execution_count": null,
      "metadata": {
        "id": "JmopRkc0F1ek"
      },
      "outputs": [],
      "source": [
        "import re\n",
        "from flask_ngrok import run_with_ngrok\n",
        "from flask import Flask, jsonify, request,render_template\n",
        "from happytransformer import HappyGeneration, GENSettings\n",
        "\n",
        "app = Flask(__name__,template_folder='/content/drive/MyDrive/Colab Notebooks/Tamplate')\n",
        "run_with_ngrok(app)\n",
        "\n",
        "happy_gen = HappyGeneration(\"GPT-NEO\", \"EleutherAI/gpt-neo-125M\")\n",
        "\n",
        "training_cases = \"\"\"Keywords: Canada, AI, fast\n",
        "Output: Canada's AI industry is growing fast. \n",
        "\n",
        "Keywords: purchase, desk, adjustable\n",
        "Output: I just purchased a new height adjustable desk. \n",
        "\n",
        "Keywords: museum, art, painting, Ottawa\n",
        "Output: I went to an art museum in Ottawa and saw some beautiful paintings. I'm excited to revisit. \n",
        "\n",
        "Keywords: exam, success, study\n",
        "Output:My first exam was a success! I think I aced it because of your help with studying. \n",
        "\n",
        "Keywords:Self Programmable,medical monitoring device,Can adapt it's algorithms to each patient,Uploads algorithms,Can re- configure for other applications, such as: EMG, ECG, EEG,Can work Stand-alone,Or Work with outside computers,Wireless Communication\n",
        "Output:A network system managing an on-demand service within a geographic region can receive, over a network, multi-user request data corresponding to a request for service for a plurality of users. The request data can indicate one or more start locations, a plurality of users, and one or more service locations. In response to receiving the request data, the network system can select a set of service providers from a plurality of candidate service providers in the geographic region to provide the requested service. The service providers can be selected based on optimizations of one or more service parameters including estimated fares for the plurality of users, ETAs to the start location, ETAs to the service locations, etc. The network system can further determine routes for the set of service providers from their respective locations to the start or service location(s) and from the start or \n",
        "\n",
        "Keywords:Portable device,Wireless connectivity,A Security device,With method of use,Provides multi-factor authentication,For online access,using proximity with mobile devices as authentication,Use biometric for authentication factor\n",
        "Output:A portable security device with wireless connectivity that provides multi-factor authentication for online access. It has a built-in method of use that allows users to authenticate their identity using biometric factors. The device also uses proximity with mobile devices as an additional authentication factor, making it more difficult for unauthorized users to access the device. Overall, the device is designed to provide a high level of security for online access and is particularly well-suited for users who need to access sensitive information or systems remotely.\n",
        "\n",
        "Keywords:   An apparatus,For storing pills,and dispensing pills,With cartridge mechanism,Has optical sensors,Non-contact sensors\n",
        "Output:A wireless devices that include a virtual assistant avatar, which is capable of communicating with patients in a natural and intuitive manner. The system also includes a physician web portal, which allows healthcare professionals to remotely monitor patient data and provide feedback and recommendations. The virtual assistant avatar provides patients with an easy and interactive way to report symptoms and respond to questions, while the physician web portal allows doctors to remotely test patients and monitor their progress. The system uses artificial intelligence to analyze patient data and provide insights and recommendations to healthcare professionals, while also utilizing speech to text, text to speech, and natural language processing to ensure effective communication between patients and the virtual assistant avatar. Overall, the system and method is designed to improve remote patient monitoring, provide more efficient and effective communication between patients and healthcare professionals, and facilitate better overall patient outcomes.\n",
        "\n",
        "Keywords:System and Method,Improving remote patient monitoring,Using plurality of physiological medical devices,Wireless devices,Includes a Virtual assistant Avatar,Includes physician web portal,Remote testing of patient,Uses Artificial Intelligence,Utilizing speech to text, Text to speech and Natural language processing\n",
        "Output:A wireless devices that include a virtual assistant avatar, which is capable of communicating with patients in a natural and intuitive manner. The system also includes a physician web portal, which allows healthcare professionals to remotely monitor patient data and provide feedback and recommendations. The virtual assistant avatar provides patients with an easy and interactive way to report symptoms and respond to questions, while the physician web portal allows doctors to remotely test patients and monitor their progress. The system uses artificial intelligence to analyze patient data and provide insights and recommendations to healthcare professionals, while also utilizing speech to text, text to speech, and natural language processing to ensure effective communication between patients and the virtual assistant avatar. Overall, the system and method is designed to improve remote patient monitoring, provide more efficient and effective communication between patients and healthcare professionals, and facilitate better overall patient outcomes.\n",
        "\n",
        "Keywords:Smart Medication tray,Wireless connectivity,Built-in weight scales,Medication sensors,With storage compartments,With proximity sensors,Biometric access\n",
        "Output: A wireless device that includes built-in weight scales, medication sensors, storage compartments, proximity sensors, and biometric access. The device is designed to help patients manage their medications more effectively and efficiently. The built-in weight scales ensure that patients are taking the correct dosage of their medication, while the medication sensors ensure that the medication is taken at the right time. The storage compartments are designed to store different types of medication separately, reducing the risk of confusion or errors. The proximity sensors allow the device to detect when the patient is nearby and remind them to take their medication, while the biometric access ensures that only authorized users have access to the medication tray. Overall, the smart medication tray is an innovative solution that helps patients manage their medication more effectively, while also providing a higher level of security and reliability.\n",
        "\n",
        "Keywords:Aortable wireless security device,Authorizing RFID payment transactions,Email correspondences,Mobile device\n",
        "Output:A portable wireless security device (WSD) along with methods of use for providing a multi-factor authentication process for authorizing RFID payment transactions,online processes and email correspondences made by a mobile device.\n",
        "\n",
        "Keywords:Self-programmable,Medical Monitoring system,Monitoring and detection algorithms,Individual patient,Uploading new detection algorithms,Software applications,Computing devices,ECG,EEG,EMG,Stand-alone device,Wireless communication\n",
        "Output:A self-programmable Medical Monitoring system capable of adapting its monitoring and detection algorithms to each individual patient. The Monitoring device is further capable of uploading new detection algorithms as well as software applications from outside computing devices. Uploaded software applications can configure the Medical Monitoring device for additional applications including but not limited to an ECG, EEG and EMG device.The Monitoring device can operate as stand-alone device or it can communicate wirelessly with one or more outside computing devices.\n",
        "\n",
        "Keywords:Apparatus,Dispensing pills,Pill storage section,Dispensing section,Optical sensor,Wireless communication module,Ring-shaped blister pack,Motorized mechanism,Rotatable positioning,Object detection,Automatic dispensin\n",
        "Output:An apparatus for dispensing pills comprising a pill storage section, a dispensing section located at a lower end of the storage section, an optical sensor, a memory, controller and wireless communication module and a supporting tray for one ring-shaped blister pack.A spring loaded lever is provided as push-out means in line with the respective pills of the blister pack and with the passage opening and can be operated for pushing out the pills to be dispensed through the passage opening.A motorized mechanism is provided as means for rotatable positioning of the blister pack stepwise relative to the part of the apparatus including the push-out means.Optical sensor detects presence of an object such as a person’s hand at the passage opening and allows the pills to be dispensed automatically.\n",
        "\n",
        "Keywords:Systems and methods,On-demand remote telecommunication,Attorneys,Telecommunication services,Patient's access,Healthcare providers,Telecommunication platforms,Telehealth,Telemedicine,Networked system,Healthcare consultations,Performance reviews,Geographical location\n",
        "Output:Systems and methods for improving a User access to the services offered by one or more service providers utilizing on-demand remote telecommunication is provided. In an example application, a User seeking legal service,obtains access to services offered by one or more attorneys thru telecommunication services.In another example, patient's access to healthcare providers is improved by managing on-demand services thru sharing access to healthcare providers utilizing telecommunication platforms, including telehealth and telemedicine.In a healthcare example embodiment, a networked system receives an indication of on-demand search being performed at a User device to remotely locate one or more healthcare providers for online consultations with the User.Search device provides a plurality of terms, including Provider's skills, consultation cost, performance reviews, and geographical location.The networked system performs the search that corresponds to the terms provided.A result of the search is presented on the User device.\n",
        "\n",
        "Keywords:Remote Patient Monitoring,Physiological test devices,Built-in hardware,Wireless connectivity redundancy mechanisms,Hardware and software failures,Wireless communication disruption,Physiological parameters,Reliable delivery,Patient test data,Avatar Virtual Assistant,Multilayer testing mechanism,Interactively communicati,Speech To Text (STT),Text To Speech (TTS),Natural Language Processing (NLP)\n",
        "Output:Systems and methods for improving Remote Patient Monitoring by utilizing a plurality of physiological test devices with built-in hardware,software and wireless connectivity redundancy mechanisms to help ensure successful remote patient monitoring in the event of hardware and software failures as well as wireless communication disruption and down-time.,A time-delayed method for the transmission of the acquired physiological parameters are utilized for reliable delivery of patient test data to remote server in the event of disruption in wireless communication services.,Additionally, Artificial Intelligent (AI) Avatar Virtual Assistant with passive “Check My Status’ monitoring is utilized to provide a multilayer testing mechanism within remote patient monitoring by interactively communicating with the patient via voice using Speech To Text (STT), Text To Speech (TTS) and Natural Language Processing (NLP).\n",
        "\n",
        "Keywords:Non-contact EEG directional circuit, Non-contact sensors, EEG signals,Processor,Feedback device, Contact EEG circuit,second EEG signals, state.\n",
        "Output:Aspects of the disclosure can provide a method and device for detecting EEG signals of a first person in proximity to the device. The device can include a non-contact EEG directional circuit having non-contact sensors, the non-contact EEG directional circuit being configured to detect the EEG signals produced by a brain of the first person without making contact with the first person. The device can further include a processor coupled to the non-contact EEG directional circuit that is configured to analyze the EEG signals to detect patterns in the EEG signals that correspond to a state of the first person in proximity to the non-contacting sensor and a feedback device that is configured to provide a second person with an indication of the state of the first person in proximity to the non-contacting sensor. Additionally, the device can include a contact EEG circuit having sensors that are in contact with the second person and that is configured to detect second EEG signals produced by a brain of the second person, wherein the processor is coupled to the contact EEG circuit and is configured to analyze the second EEG signals to detect patterns in the second EEG signals that correspond to a state of second the person.\n",
        "\n",
        "Keywords:Method,Electrical signals, Scalp surface, Three-dimensional information, Cerebral cortex, Dynamic Electrocortical Imaging (DECI),Electroencephalographic (EEG) amplifier, EEG electrodes, Custom software, Diagnosis, Monitoring,Cortical disorders,Non-medical applications,Entertainment,Lie-detection,Pre-existing data,Accessible technology,Private clinics, Brain abnormalities.\n",
        "Output:The present invention describes a method and apparatus to localize the electrical signals measured from a subject's scalp surface, preferably in near-real time, and to generate dynamic three-dimensional information of the electrical activity occurring within the cerebral cortex of the brain. In the preferred embodiment, it can produce images that can be immediately inspected and analyzed by an operator in near-real time, resulting in a powerful new cortical imaging modality, which we denote as Dynamic Electrocortical Imaging (DECI). The present invention involves the use of a computer, an electroencephalographic (EEG) amplifier, EEG electrodes, and custom software. It can measure healthy and diseased cortical events and states in both conscious and unconscious subjects. This is useful, as it allows for the diagnosis, monitoring and treatment of cortical disorders, while also furthering the understanding of the human brain and lending use to additional non-medical applications such as in entertainment, education, lie-detection and industry. The invention in one embodiment is implemented using software in conjunction with readily available EEG hardware. Furthermore, this same method can be applied to pre-existing data and when doing so, EEG hardware is not required. Having a practical near-real time 3D imaging system brings a far more accessible technology to doctors, researchers, individuals, and private clinics to better diagnose, monitor, treat and understand many of the conditions and abnormalities of the brain.\n",
        "\n",
        "Keywords:Zooming application, Optical head mounted display, OHMD, Electroencephalogram, EEG sensor, Magnification control, Text-to-speech conversion, Image operations, Text operations, Triggering signal, Motion detecting sensor, Neural implant\n",
        "Output:Disclosed are various embodiments for implementing a zooming application that pairs an optical head mounted display (OHMD) device with an electroencephalogram (EEG) sensor to facilitate the control and the level of magnification as well as the text-to-speech conversion of any text depicted on an optical head mounted display device. The zooming application may be configured to perform various operations such as, for example, zoom-in, zoom-out, text-to-speech, freeze, and/or other operations on an image as well as text depicted on an optical head mounted display device in response to a triggering signal obtained from the electroencephalogram (EEG) sensor, motion detecting sensor, neural implant, or other sensor.\n",
        "\n",
        "Keywords: EEG signals,Non-contact sensors,Non-contact EEG directional circuit,Brain activity,Proximity detection,Pattern recognition,Feedback device,Dontact EEG circuit,Brain state analysis\n",
        "Output:Aspects of the disclosure can provide a method and device for detecting EEG signals of a first person in proximity to the device. The device can include a non-contact EEG directional circuit having non-contact sensors, the non-contact EEG directional circuit being configured to detect the EEG signals produced by a brain of the first person without making contact with the first person. The device can further include a processor coupled to the non-contact EEG directional circuit that is configured to analyze the EEG signals to detect patterns in the EEG signals that correspond to a state of the first person in proximity to the non-contacting sensor and a feedback device that is configured to provide a second person with an indication of the state of the first person in proximity to the non-contacting sensor. Additionally, the device can include a contact EEG circuit having sensors that are in contact with the second person and that is configured to detect second EEG signals produced by a brain of the second person, wherein the processor is coupled to the contact EEG circuit and is configured to analyze the second EEG signals to detect patterns in the second EEG signals that correspond to a state of second the person.\n",
        "\n",
        "Keywords:Medical Monitoring Device,Software applications, electroencesignals,Artificial Intelligence,Brain-Computer Interface,Brain-Brain Interface,Text To Speech,Pattern Recognition,Epilepsy,Seizure disorders,Early detection\n",
        "Output:A Medical Monitoring Device (MMD) capable of uploading new software applications from outside computing devices. Uploaded software applications can configure the monitoring device for additional applications, including the recording and analysis of the electroencephalogram (EEG) signals. Artificial Intelligence (AI) is utilized to optimize the feature extraction from recorded EEG signals and the decoding of the acquired information, resulting in a novel Brain-Computer Interface (BCI) providing a direct communication channel between human brain and outside devices, as well as a Brain-Brain Interface (BBI) for interactive communication between humans while utilizing their thought faculty. Text To Speech (TTS) technology is further utilized to convert decoded human thoughts into spoken words thru synthesized speech. Uploaded applications can further configure the monitoring device to utilize Artificial Intelligence (AI) and Pattern Recognition for diagnosing brain conditions, including epilepsy and other seizure disorders, and identify trends for early detection of epileptic seizures.\n",
        "\n",
        "Keywords:Self-calibrating,Secure,Automatic pill dispenser, multifactor authentication,Opioid management,Medication adherence,Rotary storage tray,Detachable mobile device,Microprocessor control,Artificial intelligence,Voice-enabled assistant,Natural language processing,Tamperproof\n",
        "Output:Apparatus, system and method for Self-Calibrating Secure Automatic Pill Dispenser with Multifactor Dispense Authentication and more particularly, a remote-controlled and safe-calibrating tamperproof portable pill dispenser for opioids and other controlled substances comprising a plurality of authentication methods for medication management, scheduling, and dispense system. A rotary medicating storage tray comprising a plurality of storage compartments, each compartment further comprising of two sub-storage compartments capable of dispensing the stored medication independently under microprocessor controlled motorized mechanism. A detachable mobile device with related Application software providing User Interface and wireless communications with remote servers to manage medication scheduling and adherence, while interacting with embedded Microcomputer unit thru a series of proprietor commands in order to securely manage the administration functions of the pill dispenser. Artificial Intelligence, including a voice-enabled Avatar Assistant with Natural Language Processing is utilized to provide interactive assistance and triage the user.\n",
        "\n",
        "Keywords:Behavior Analysis System,Surveillance cameras,Person's position,Person's movement,Person's postures,Vital signs,Wireless sensor,Pendant,Armband,Fall information,Wireless motion detectors,Passive Infra-Red sensors,Werson's activities,Wireless binary sensors,Opening and closing, doors,Windows,Building, room\n",
        "Output:A Behavior Analysis System (BAS) receives video image frames from plurality of surveillance cameras positioned to monitor and analyze a person’s position, movement and postures in a room of a building; along with the person’s vital signs, positioning, movement and fall information from a wireless sensor in form of a pendant or armband carried on the person’s body, determines movements of a person thru plurality of wireless motion detectors including but not limited to, Passive Infra-Red (PIR) sensors as well as the determining a person’s activities using plurality of  wireless binary sensors capable of detecting opening and closing of doors, gates and windows.A Behavior Analysis System (BAS) receives video image frames from plurality of surveillance cameras positioned to monitor and analyze a person’s position, movement and postures in a room of a building; along with the person’s vital signs, positioning, movement and fall information from a wireless sensor in form of a pendant or armband carried on the person’s body, determines movements of a person thru plurality of wireless motion detectors including but not limited to, Passive Infra-Red (PIR) sensors as well as the determining a person’s activities using plurality of  wireless binary sensors capable of detecting opening and closing of doors, gates and windows\n",
        "\n",
        "Keywords:Smart personal emergency response system,Multiple sensors,Interactive communication unit,Data analytics processor,Behavioral analytics engine,Notification module,Wireless communication links,Real-time analysis,Emergency conditions,Virtual assistant application\n",
        "Output:A method and a smart personal emergency response system (SPERS) are provided for monitoring, analyzing, and communicating behavior of a user in emergency conditions and non-emergency conditions to multiple user devices. The SPERS has multiple sensors, an interactive communication unit (ICU), a non-transitory computer readable storage medium, and at least one data analytics processor having a data communication module, a control module, a behavioral analytics engine (BAE), and a notification module. Sensor data generated by the sensors is communicated to the user devices via one or more wireless communication links using the ICU. The ICU allows communication only on activation of an input means. The BAE dynamically analyzes the generated sensor data with one or more sensor data libraries in real-time for detecting behavior of the user in emergency conditions and transmits an analytics result to a virtual assistant application on the user devices.\n",
        "\"\"\"\n",
        "\n",
        "\n",
        "@app.route('/')\n",
        "def home():\n",
        "    return render_template('index.html')\n",
        "\n",
        "@app.route(\"/generate\", methods=[\"POST\"])\n",
        "def generate_text():\n",
        "    # Get input data from request\n",
        "    data = request.json\n",
        "    print(data)\n",
        "    keywords = data['input_text']\n",
        "\n",
        "    def convert_keywords_to_list(keywords):\n",
        "    # Split the string of keywords into a list\n",
        "        keywords = keywords.split(\",\")\n",
        "    # Remove any leading or trailing whitespace from each keyword\n",
        "        keywords = [keyword.strip() for keyword in keywords]\n",
        "    # Return the list of keywords\n",
        "        return keywords\n",
        "\n",
        "    #Creating the prompt\n",
        "    def create_prompt(training_cases, keywords):\n",
        "        keywords = \", \".join(keywords)\n",
        "        prompt = training_cases + \"\\nKeywords: \"+ keywords+ \"\\nOutput:\"\n",
        "        return prompt\n",
        "    prompt = create_prompt(training_cases, keywords)\n",
        "\n",
        "    # Generate text using the HappyGeneration model\n",
        "    args_beam = GENSettings(num_beams=5, no_repeat_ngram_size=2, early_stopping=True, min_length=5, max_length=200)\n",
        "    # Generate text using the HappyGeneration model\n",
        "    output_text= happy_gen.generate_text(prompt, args=args_beam)\n",
        "\n",
        "    # Return the generated text as a JSON response\n",
        "    print(\"output_text:\", output_text)\n",
        "    return jsonify({\"output_text\": output_text.text})\n",
        "\n",
        "\n",
        "if __name__ == '__main__':\n",
        "  app.run()"
      ]
    },
    {
      "cell_type": "code",
      "execution_count": null,
      "metadata": {
        "id": "JqorhfYzF1n_"
      },
      "outputs": [],
      "source": []
    }
  ],
  "metadata": {
    "colab": {
      "provenance": [],
      "private_outputs": true,
      "authorship_tag": "ABX9TyN9rfatXiTC66+JE8xWQP2t",
      "include_colab_link": true
    },
    "kernelspec": {
      "display_name": "Python 3",
      "name": "python3"
    },
    "language_info": {
      "name": "python"
    },
    "accelerator": "TPU",
    "gpuClass": "premium"
  },
  "nbformat": 4,
  "nbformat_minor": 0
}